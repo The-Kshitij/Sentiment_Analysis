{
  "nbformat": 4,
  "nbformat_minor": 0,
  "metadata": {
    "colab": {
      "provenance": []
    },
    "kernelspec": {
      "name": "python3",
      "display_name": "Python 3"
    },
    "language_info": {
      "name": "python"
    }
  },
  "cells": [
    {
      "cell_type": "code",
      "execution_count": 1,
      "metadata": {
        "id": "jjqgqHVr9-7d"
      },
      "outputs": [],
      "source": [
        "import pandas as pd;\n",
        "import numpy as np;\n",
        "import nltk;"
      ]
    },
    {
      "cell_type": "code",
      "source": [
        "nltk.download(\"stopwords\");\n",
        "nltk.download(\"wordnet\");\n",
        "nltk.download('omw-1.4');"
      ],
      "metadata": {
        "colab": {
          "base_uri": "https://localhost:8080/"
        },
        "id": "RDUJc7sT-JJk",
        "outputId": "9bee0140-4da0-42f7-f923-785ab362b166"
      },
      "execution_count": 2,
      "outputs": [
        {
          "output_type": "stream",
          "name": "stderr",
          "text": [
            "[nltk_data] Downloading package stopwords to /root/nltk_data...\n",
            "[nltk_data]   Package stopwords is already up-to-date!\n",
            "[nltk_data] Downloading package wordnet to /root/nltk_data...\n",
            "[nltk_data]   Package wordnet is already up-to-date!\n",
            "[nltk_data] Downloading package omw-1.4 to /root/nltk_data...\n",
            "[nltk_data]   Package omw-1.4 is already up-to-date!\n"
          ]
        }
      ]
    },
    {
      "cell_type": "code",
      "source": [
        "import re;"
      ],
      "metadata": {
        "id": "ZnZAUi86_TEb"
      },
      "execution_count": 3,
      "outputs": []
    },
    {
      "cell_type": "code",
      "source": [
        "path = input(\"Enter the path to tsv file: \");\n",
        "dataset = pd.read_csv(path, delimiter = '\\t', quoting = 3);"
      ],
      "metadata": {
        "colab": {
          "base_uri": "https://localhost:8080/"
        },
        "id": "FAB_yoSX-TYs",
        "outputId": "dd95e525-820b-4149-edfb-687d3c246cd5"
      },
      "execution_count": 4,
      "outputs": [
        {
          "name": "stdout",
          "output_type": "stream",
          "text": [
            "Enter the path to tsv file: Restaurant_Reviews.tsv\n"
          ]
        }
      ]
    },
    {
      "cell_type": "markdown",
      "source": [
        "# ***Cleaning the texts***"
      ],
      "metadata": {
        "id": "Mqv8vH1L-3ZG"
      }
    },
    {
      "cell_type": "code",
      "source": [
        "stop_words = nltk.corpus.stopwords.words('english');\n",
        "stop_words.remove('not');"
      ],
      "metadata": {
        "id": "_8eTf9RmAM-p"
      },
      "execution_count": 29,
      "outputs": []
    },
    {
      "cell_type": "code",
      "source": [
        "wN = nltk.stem.wordnet.WordNetLemmatizer();"
      ],
      "metadata": {
        "id": "3hDYwdEhA69h"
      },
      "execution_count": 30,
      "outputs": []
    },
    {
      "cell_type": "code",
      "source": [
        "txts = [];\n",
        "for i in range(0, len(dataset)):\n",
        "  txt_str = dataset.iloc[i,0];\n",
        "  txt_str = re.sub('[^a-zA-Z]', ' ', txt_str);\n",
        "  txt_str = txt_str.lower();\n",
        "  txt_list = txt_str.split();\n",
        "  txt_final = [];\n",
        "  for word in txt_list:\n",
        "    if word not in stop_words:\n",
        "      txt_final.append(wN.lemmatize(word));\n",
        "  txt_final = ' '.join(txt_final);\n",
        "  txts.append(txt_final);"
      ],
      "metadata": {
        "id": "VJSyWTXU-nJK"
      },
      "execution_count": 31,
      "outputs": []
    },
    {
      "cell_type": "markdown",
      "source": [
        "# ***Creating dependent and independent variables. (Using bag of words model)***"
      ],
      "metadata": {
        "id": "CzUch-EmB-xp"
      }
    },
    {
      "cell_type": "code",
      "source": [
        "from sklearn.feature_extraction.text import CountVectorizer;"
      ],
      "metadata": {
        "id": "1I_01QVPB6u6"
      },
      "execution_count": 32,
      "outputs": []
    },
    {
      "cell_type": "code",
      "source": [
        "cV = CountVectorizer(max_features = 1400);"
      ],
      "metadata": {
        "id": "4PAJ8Op2Ca8m"
      },
      "execution_count": 33,
      "outputs": []
    },
    {
      "cell_type": "code",
      "source": [
        "x = cV.fit_transform(txts);\n",
        "y = dataset.iloc[:,-1].values;"
      ],
      "metadata": {
        "id": "Nxnu9P2HC7mq"
      },
      "execution_count": 34,
      "outputs": []
    },
    {
      "cell_type": "markdown",
      "source": [
        "# ***Training against the formed bag of words***"
      ],
      "metadata": {
        "id": "V6GaSWSxDFL3"
      }
    },
    {
      "cell_type": "code",
      "source": [
        "from sklearn.model_selection import train_test_split;"
      ],
      "metadata": {
        "id": "QQ-NzspxDZrH"
      },
      "execution_count": 35,
      "outputs": []
    },
    {
      "cell_type": "code",
      "source": [
        "x_train, x_test, y_train, y_test = train_test_split(x, y, test_size = 0.2);"
      ],
      "metadata": {
        "id": "KVhPunXjDdQg"
      },
      "execution_count": 36,
      "outputs": []
    },
    {
      "cell_type": "code",
      "source": [
        "from sklearn.naive_bayes import MultinomialNB;"
      ],
      "metadata": {
        "id": "Ol5bmxmnDEUX"
      },
      "execution_count": 37,
      "outputs": []
    },
    {
      "cell_type": "code",
      "source": [
        "model = MultinomialNB();"
      ],
      "metadata": {
        "id": "Gk3gO7VyDVV9"
      },
      "execution_count": 38,
      "outputs": []
    },
    {
      "cell_type": "code",
      "source": [
        "model.fit(x_train, y_train);"
      ],
      "metadata": {
        "id": "vQnCwy80DXi_"
      },
      "execution_count": 39,
      "outputs": []
    },
    {
      "cell_type": "code",
      "source": [
        "y_test_pred = model.predict(x_test);"
      ],
      "metadata": {
        "id": "X4w7GD6HDoIO"
      },
      "execution_count": 40,
      "outputs": []
    },
    {
      "cell_type": "markdown",
      "source": [
        "# ***Evaluating the performance***"
      ],
      "metadata": {
        "id": "xME1fwiDD4aB"
      }
    },
    {
      "cell_type": "code",
      "source": [
        "from sklearn.metrics import accuracy_score;"
      ],
      "metadata": {
        "id": "oJAhFm9rD2Zs"
      },
      "execution_count": 41,
      "outputs": []
    },
    {
      "cell_type": "code",
      "source": [
        "print(f\"Accuracy: {accuracy_score(y_test, y_test_pred) * 100}%\")"
      ],
      "metadata": {
        "colab": {
          "base_uri": "https://localhost:8080/"
        },
        "id": "37XkGjfdD-D2",
        "outputId": "862ea7e1-5052-4e50-fa9e-112427a9e049"
      },
      "execution_count": 42,
      "outputs": [
        {
          "output_type": "stream",
          "name": "stdout",
          "text": [
            "Accuracy: 79.0%\n"
          ]
        }
      ]
    }
  ]
}